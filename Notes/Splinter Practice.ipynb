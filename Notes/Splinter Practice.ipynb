{
 "cells": [
  {
   "cell_type": "code",
   "execution_count": 11,
   "metadata": {},
   "outputs": [
    {
     "name": "stdout",
     "output_type": "stream",
     "text": [
      "Splinter — Splinter 0.10.0 documentation\n",
      "Splinter — Splinter 0.10.0 documentation\n"
     ]
    }
   ],
   "source": [
    "from splinter import Browser\n",
    "import time\n",
    "\n",
    "executable_path = {'executable_path':'/Users/jenniferwilson/Desktop/Repositories/UDEN201811DATA3/chromedriver'}\n",
    "browser = Browser('chrome', **executable_path)\n",
    "\n",
    "try:\n",
    "    browser.visit('http://google.com')\n",
    "    browser.fill('q', 'splinter - python acceptance testing for web applications')\n",
    "    button = browser.find_by_name('btnK')\n",
    "    time.sleep(2)\n",
    "    button.click()\n",
    "    for x in range(2):\n",
    "#         button = browser.find_by_id(\"pnnext\")\n",
    "        url = browser.find_by_css('h3[class=\"LC20lb\"]')\n",
    "        print(url.text)\n",
    "except Exception as e:\n",
    "    print(e)\n",
    "finally:\n",
    "    browser.quit()"
   ]
  },
  {
   "cell_type": "code",
   "execution_count": null,
   "metadata": {},
   "outputs": [],
   "source": []
  }
 ],
 "metadata": {
  "kernelspec": {
   "display_name": "Python 3",
   "language": "python",
   "name": "python3"
  },
  "language_info": {
   "codemirror_mode": {
    "name": "ipython",
    "version": 3
   },
   "file_extension": ".py",
   "mimetype": "text/x-python",
   "name": "python",
   "nbconvert_exporter": "python",
   "pygments_lexer": "ipython3",
   "version": "3.6.5"
  }
 },
 "nbformat": 4,
 "nbformat_minor": 2
}
