{
 "cells": [
  {
   "cell_type": "code",
   "execution_count": 8,
   "metadata": {},
   "outputs": [],
   "source": [
    "ex1 = 'xyx'\n",
    "ex2 = 'xyxy'\n",
    "ex3 = ''\n",
    "ex4 = 'x'\n",
    "\n",
    "def balanced(string):\n",
    "    if string.count('x') == 0 and string.count('y') == 0:\n",
    "        output = \"balanced\"\n",
    "    elif string.count('x') == string.count('y'):\n",
    "        output = \"balanced\"\n",
    "    else:\n",
    "        output = \"not balanced\"\n",
    "    return output"
   ]
  },
  {
   "cell_type": "code",
   "execution_count": null,
   "metadata": {},
   "outputs": [],
   "source": []
  }
 ],
 "metadata": {
  "kernelspec": {
   "display_name": "Python 3",
   "language": "python",
   "name": "python3"
  },
  "language_info": {
   "codemirror_mode": {
    "name": "ipython",
    "version": 3
   },
   "file_extension": ".py",
   "mimetype": "text/x-python",
   "name": "python",
   "nbconvert_exporter": "python",
   "pygments_lexer": "ipython3",
   "version": "3.6.5"
  }
 },
 "nbformat": 4,
 "nbformat_minor": 2
}
