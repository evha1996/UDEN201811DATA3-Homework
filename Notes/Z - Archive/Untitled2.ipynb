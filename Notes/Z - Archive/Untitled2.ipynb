{
 "cells": [
  {
   "cell_type": "code",
   "execution_count": 1,
   "metadata": {},
   "outputs": [
    {
     "ename": "SyntaxError",
     "evalue": "invalid syntax (<ipython-input-1-ca74bae2d74d>, line 1)",
     "output_type": "error",
     "traceback": [
      "\u001b[0;36m  File \u001b[0;32m\"<ipython-input-1-ca74bae2d74d>\"\u001b[0;36m, line \u001b[0;32m1\u001b[0m\n\u001b[0;31m    6  . . Q . . .\u001b[0m\n\u001b[0m         ^\u001b[0m\n\u001b[0;31mSyntaxError\u001b[0m\u001b[0;31m:\u001b[0m invalid syntax\n"
     ]
    }
   ],
   "source": [
    "# https://stackoverflow.com/questions/2970608/what-are-named-tuples-in-python\n",
    "    \n",
    "# 6  . . Q . . .\n",
    "# 5  . . . . . Q\n",
    "# 4  . Q . . . .\n",
    "# 3  . . . . Q .\n",
    "# 2  Q . . . . .\n",
    "# 1  . . . Q . .\n",
    "#    a b c d e f"
   ]
  },
  {
   "cell_type": "code",
   "execution_count": null,
   "metadata": {},
   "outputs": [],
   "source": [
    "grid = [x.split() for x in rows]\n",
    "grid"
   ]
  }
 ],
 "metadata": {
  "kernelspec": {
   "display_name": "Python 3",
   "language": "python",
   "name": "python3"
  },
  "language_info": {
   "codemirror_mode": {
    "name": "ipython",
    "version": 3
   },
   "file_extension": ".py",
   "mimetype": "text/x-python",
   "name": "python",
   "nbconvert_exporter": "python",
   "pygments_lexer": "ipython3",
   "version": "3.6.5"
  }
 },
 "nbformat": 4,
 "nbformat_minor": 2
}
