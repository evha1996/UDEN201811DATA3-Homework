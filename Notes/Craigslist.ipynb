{
 "cells": [
  {
   "cell_type": "code",
   "execution_count": null,
   "metadata": {},
   "outputs": [],
   "source": []
  },
  {
   "cell_type": "code",
   "execution_count": 1,
   "metadata": {},
   "outputs": [],
   "source": [
    "import pickle\n",
    "import pandas as pd\n",
    "from bs4 import BeautifulSoup\n",
    "import requests\n",
    "import os\n",
    "\n",
    "resp = requests.get(\"https://denver.craigslist.org/search/ataresp\")\n",
    "soup = BeautifulSoup(resp.content, \"html.parser\")\n",
    "rows = soup.find_all(\"li\", {\"class\": \"result-row\"})\n",
    "\n",
    "def get_item_name_and_price(soup_object):\n",
    "    try:\n",
    "        price = soup_object.find('span', {\"class\": \"result-price\"}).get_text()\n",
    "    except AttributeError:\n",
    "        price = \"cantPriceThatone\"\n",
    "    name = soup_object.find('a', {\"class\": \"result-title hdrlnk\"}).get_text()\n",
    "    #return (name, price)\n",
    "    return {\"item_name\": name, \"item_price\": price}\n",
    "\n",
    "item_prices = []\n",
    "\n",
    "for r in rows:\n",
    "    item_prices.append(get_item_name_and_price(r))\n",
    "    \n",
    "with open(\"item_prices.pkl\", \"wb\") as pickle_out:\n",
    "    pickle.dump(item_prices, pickle_out)\n",
    "    \n",
    "# databases\n",
    "# instead of tables, collections\n",
    "# insteaad of rows, documents\n",
    "\n",
    "import pymongo\n",
    "\n",
    "from pymongo import MongoClient\n",
    "\n",
    "client = MongoClient()\n",
    "\n",
    "db = client.craigslist \n",
    "# this is a database . does not exist yet\n",
    "\n",
    "for row in item_prices:\n",
    "    # this is a collection on the db, will exist after I insert data\n",
    "    db.listings.insert_one(row)"
   ]
  },
  {
   "cell_type": "code",
   "execution_count": 2,
   "metadata": {},
   "outputs": [
    {
     "ename": "ModuleNotFoundError",
     "evalue": "No module named 'pymongo'",
     "output_type": "error",
     "traceback": [
      "\u001b[0;31m---------------------------------------------------------------------------\u001b[0m",
      "\u001b[0;31mModuleNotFoundError\u001b[0m                       Traceback (most recent call last)",
      "\u001b[0;32m<ipython-input-2-615b54fee8db>\u001b[0m in \u001b[0;36m<module>\u001b[0;34m()\u001b[0m\n\u001b[1;32m      6\u001b[0m \u001b[0;31m# insteaad of rows, documents\u001b[0m\u001b[0;34m\u001b[0m\u001b[0;34m\u001b[0m\u001b[0m\n\u001b[1;32m      7\u001b[0m \u001b[0;34m\u001b[0m\u001b[0m\n\u001b[0;32m----> 8\u001b[0;31m \u001b[0;32mimport\u001b[0m \u001b[0mpymongo\u001b[0m\u001b[0;34m\u001b[0m\u001b[0m\n\u001b[0m\u001b[1;32m      9\u001b[0m \u001b[0;34m\u001b[0m\u001b[0m\n\u001b[1;32m     10\u001b[0m \u001b[0;32mfrom\u001b[0m \u001b[0mpymongo\u001b[0m \u001b[0;32mimport\u001b[0m \u001b[0mMongoClient\u001b[0m\u001b[0;34m\u001b[0m\u001b[0m\n",
      "\u001b[0;31mModuleNotFoundError\u001b[0m: No module named 'pymongo'"
     ]
    }
   ],
   "source": [
    "with open(\"item_prices.pkl\", \"wb\") as pickle_out:\n",
    "    pickle.dump(item_prices, pickle_out)\n",
    "    \n",
    "# databases\n",
    "# instead of tables, collections\n",
    "# insteaad of rows, documents\n",
    "\n",
    "import pymongo\n",
    "\n",
    "from pymongo import MongoClient\n",
    "\n",
    "client = MongoClient()\n",
    "\n",
    "db = client.craigslist \n",
    "# this is a database . does not exist yet\n",
    "\n",
    "for row in item_prices:\n",
    "    # this is a collection on the db, will exist after I insert data\n",
    "    db.listings.insert_one(row)"
   ]
  },
  {
   "cell_type": "code",
   "execution_count": null,
   "metadata": {},
   "outputs": [],
   "source": []
  }
 ],
 "metadata": {
  "kernelspec": {
   "display_name": "Python 3",
   "language": "python",
   "name": "python3"
  },
  "language_info": {
   "codemirror_mode": {
    "name": "ipython",
    "version": 3
   },
   "file_extension": ".py",
   "mimetype": "text/x-python",
   "name": "python",
   "nbconvert_exporter": "python",
   "pygments_lexer": "ipython3",
   "version": "3.6.5"
  }
 },
 "nbformat": 4,
 "nbformat_minor": 2
}
