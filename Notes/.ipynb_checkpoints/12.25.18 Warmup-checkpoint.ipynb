{
 "cells": [
  {
   "cell_type": "code",
   "execution_count": 10,
   "metadata": {},
   "outputs": [
    {
     "name": "stdout",
     "output_type": "stream",
     "text": [
      "1323\n",
      "3234\n",
      "2342\n",
      "3423\n",
      "4234\n",
      "2349\n",
      "3492\n",
      "4923\n",
      "9234\n",
      "2342\n",
      "3423\n",
      "4238\n",
      "2385\n",
      "3850\n",
      "8502\n",
      "5029\n",
      "0293\n",
      "2938\n",
      "9384\n",
      "3840\n",
      "8402\n",
      "4023\n",
      "0239\n",
      "2398\n",
      "3980\n",
      "9802\n",
      "8023\n",
      "0234\n"
     ]
    }
   ],
   "source": [
    "data = \"1323423492342385029384023980234\"\n",
    "for index, element in enumerate(data):\n",
    "    temp = data[index: index +4]\n",
    "    if len(temp) == 4:\n",
    "        print(temp)"
   ]
  },
  {
   "cell_type": "code",
   "execution_count": 7,
   "metadata": {},
   "outputs": [
    {
     "name": "stdout",
     "output_type": "stream",
     "text": [
      "1323\n"
     ]
    }
   ],
   "source": [
    "for index, element in enumerate(data):\n",
    "    print(data[index: index +4])\n",
    "    break"
   ]
  },
  {
   "cell_type": "code",
   "execution_count": 19,
   "metadata": {},
   "outputs": [
    {
     "data": {
      "text/plain": [
       "{'1323': 9,\n",
       " '3234': 12,\n",
       " '2342': 11,\n",
       " '3423': 12,\n",
       " '4234': 13,\n",
       " '2349': 18,\n",
       " '3492': 18,\n",
       " '4923': 18,\n",
       " '9234': 18,\n",
       " '4238': 17,\n",
       " '2385': 18,\n",
       " '3850': 16,\n",
       " '8502': 15,\n",
       " '5029': 16,\n",
       " '0293': 14,\n",
       " '2938': 22,\n",
       " '9384': 24,\n",
       " '3840': 15,\n",
       " '8402': 14,\n",
       " '4023': 9,\n",
       " '0239': 14,\n",
       " '2398': 22,\n",
       " '3980': 20,\n",
       " '9802': 19,\n",
       " '8023': 13,\n",
       " '0234': 9}"
      ]
     },
     "execution_count": 19,
     "metadata": {},
     "output_type": "execute_result"
    }
   ],
   "source": [
    "result = {} # initiate a dictionary\n",
    "# result[\"\".join(map(str, data))]\n",
    "\n",
    "data = \"1323423492342385029384023980234\"\n",
    "\n",
    "for index, element in enumerate(data):\n",
    "    temp = data[index: index +4]\n",
    "    if len(temp) == 4:\n",
    "        # Create a dictionary from the string and the sume of the string.\n",
    "        temp_ints = [int(j) for j in temp]\n",
    "        result[temp] = sum(temp_ints)\n",
    "#         print(temp_ints, sum(temp_ints))\n",
    "result\n",
    "# max(result.items())"
   ]
  },
  {
   "cell_type": "code",
   "execution_count": 20,
   "metadata": {},
   "outputs": [
    {
     "ename": "TypeError",
     "evalue": "sequence item 0: expected str instance, int found",
     "output_type": "error",
     "traceback": [
      "\u001b[0;31m---------------------------------------------------------------------------\u001b[0m",
      "\u001b[0;31mTypeError\u001b[0m                                 Traceback (most recent call last)",
      "\u001b[0;32m<ipython-input-20-9492d4df44c6>\u001b[0m in \u001b[0;36m<module>\u001b[0;34m()\u001b[0m\n\u001b[1;32m      3\u001b[0m \u001b[0;31m# Desired output: 234523444\u001b[0m\u001b[0;34m\u001b[0m\u001b[0;34m\u001b[0m\u001b[0m\n\u001b[1;32m      4\u001b[0m \u001b[0;34m\u001b[0m\u001b[0m\n\u001b[0;32m----> 5\u001b[0;31m \u001b[0;34m\"\"\u001b[0m\u001b[0;34m.\u001b[0m\u001b[0mjoin\u001b[0m\u001b[0;34m(\u001b[0m\u001b[0mdata\u001b[0m\u001b[0;34m)\u001b[0m\u001b[0;34m\u001b[0m\u001b[0m\n\u001b[0m",
      "\u001b[0;31mTypeError\u001b[0m: sequence item 0: expected str instance, int found"
     ]
    }
   ],
   "source": []
  },
  {
   "cell_type": "code",
   "execution_count": null,
   "metadata": {},
   "outputs": [],
   "source": []
  }
 ],
 "metadata": {
  "kernelspec": {
   "display_name": "Python 3",
   "language": "python",
   "name": "python3"
  },
  "language_info": {
   "codemirror_mode": {
    "name": "ipython",
    "version": 3
   },
   "file_extension": ".py",
   "mimetype": "text/x-python",
   "name": "python",
   "nbconvert_exporter": "python",
   "pygments_lexer": "ipython3",
   "version": "3.6.5"
  }
 },
 "nbformat": 4,
 "nbformat_minor": 2
}
