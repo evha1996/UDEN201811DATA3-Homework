{
 "cells": [
  {
   "cell_type": "markdown",
   "metadata": {},
   "source": [
    "# WeatherPy Homework Goals\n",
    "----\n",
    "\n",
    "Your objective is to build a series of scatter plots to showcase the following relationships:\n",
    "\n",
    "* Temperature (F) vs. Latitude: http://cld.wthms.co/EO3w2s/YNdUxZMrtL\n",
    "* Humidity (%) vs. Latitude: https://cld.wthms.co/bpT0ze/IyFBgMxVdD\n",
    "* Cloudiness (%) vs. Latitude: https://cld.wthms.co/JrfTdx/D6unfAUR7V\n",
    "* Wind Speed (mph) vs. Latitude: https://cld.wthms.co/4zryL2/32FTM3I5Tv\n",
    "\n",
    "Your final notebook must:\n",
    "\n",
    "* Randomly select at least 500 unique (non-repeat) cities based on latitude and longitude.\n",
    "* Perform a weather check on each of the cities using a series of successive API calls.\n",
    "* Include a print log (https://cld.wthms.co/F1p7lW/Z2QPWRcMLR) of each city as it's being processed with the city number and city name.\n",
    "* Save both a CSV of all data retrieved and png images for each scatter plot.\n",
    "\n",
    "\n"
   ]
  },
  {
   "cell_type": "code",
   "execution_count": 1,
   "metadata": {
    "scrolled": true
   },
   "outputs": [],
   "source": [
    "# Remaining.\n",
    "# See if I can remove try/except in function to get weather.\n",
    "# Add logs.\n",
    "\n",
    "# Setup\n",
    "import matplotlib.pyplot as plt\n",
    "import pandas as pd\n",
    "import numpy as np\n",
    "import requests\n",
    "import csv\n",
    "import datetime\n",
    "from api_keys import key\n",
    "from citipy import citipy # Support docs: https://pypi.org/project/citipy/\n",
    "\n",
    "output_data_file = \"output_data/cities.csv\""
   ]
  },
  {
   "cell_type": "code",
   "execution_count": 33,
   "metadata": {},
   "outputs": [
    {
     "name": "stdout",
     "output_type": "stream",
     "text": [
      "Lat Long List: [(11.861058814176673, -69.20171392456498), (-35.53821792332913, -93.58328349490344), (6.992398394442745, -116.03581669372215)]\n",
      "Cities: []\n"
     ]
    }
   ],
   "source": [
    "# List for holding lat_lngs and cities\n",
    "lat_lngs = []\n",
    "cities = []\n",
    "\n",
    "# Create a set of random lat and lng combinations\n",
    "lats = np.random.uniform(low=-90.000, high=90.000, size=3)\n",
    "lngs = np.random.uniform(low=-180.000, high=180.000, size=3)\n",
    "lat_lngs = zip(lats, lngs)\n",
    "\n",
    "# TUTOR - Why does adding these two lings make the cities loop do nothing?\n",
    "lat_lngs_list = list(lat_lngs) \n",
    "print(\"Lat Long List:\", lat_lngs_list)\n",
    "\n",
    "# Identify nearest city for each lat, lng combination\n",
    "for coords in lat_lngs:\n",
    "    print(lat_lng[0])\n",
    "    city = citipy.nearest_city(coords[0], coords[1]).city_name\n",
    "    # If the city is unique, then add it to a our cities list\n",
    "    if city not in cities:\n",
    "        cities.append(city)\n",
    "print(\"Cities:\", cities)"
   ]
  },
  {
   "cell_type": "code",
   "execution_count": 2,
   "metadata": {},
   "outputs": [
    {
     "data": {
      "text/html": [
       "<div>\n",
       "<style scoped>\n",
       "    .dataframe tbody tr th:only-of-type {\n",
       "        vertical-align: middle;\n",
       "    }\n",
       "\n",
       "    .dataframe tbody tr th {\n",
       "        vertical-align: top;\n",
       "    }\n",
       "\n",
       "    .dataframe thead th {\n",
       "        text-align: right;\n",
       "    }\n",
       "</style>\n",
       "<table border=\"1\" class=\"dataframe\">\n",
       "  <thead>\n",
       "    <tr style=\"text-align: right;\">\n",
       "      <th></th>\n",
       "      <th>city_name</th>\n",
       "    </tr>\n",
       "  </thead>\n",
       "  <tbody>\n",
       "    <tr>\n",
       "      <th>0</th>\n",
       "      <td>atuona</td>\n",
       "    </tr>\n",
       "    <tr>\n",
       "      <th>1</th>\n",
       "      <td>vestmannaeyjar</td>\n",
       "    </tr>\n",
       "    <tr>\n",
       "      <th>2</th>\n",
       "      <td>punta arenas</td>\n",
       "    </tr>\n",
       "  </tbody>\n",
       "</table>\n",
       "</div>"
      ],
      "text/plain": [
       "        city_name\n",
       "0          atuona\n",
       "1  vestmannaeyjar\n",
       "2    punta arenas"
      ]
     },
     "execution_count": 2,
     "metadata": {},
     "output_type": "execute_result"
    }
   ],
   "source": [
    "# List for holding lat_lngs and cities\n",
    "lat_lngs = []\n",
    "cities = []\n",
    "\n",
    "# Create a set of random lat and lng combinations\n",
    "lats = np.random.uniform(low=-90.000, high=90.000, size=3)\n",
    "lngs = np.random.uniform(low=-180.000, high=180.000, size=3)\n",
    "lat_lngs = zip(lats, lngs)\n",
    "\n",
    "# Identify nearest city for each lat, lng combination\n",
    "for coords in lat_lngs:\n",
    "    city = citipy.nearest_city(coords[0], coords[1]).city_name\n",
    "    \n",
    "    # If the city is unique, then add it to a our cities list\n",
    "    if city not in cities:\n",
    "        cities.append(city)\n",
    "        \n",
    "# Convert unique list of cities to dataframe.\n",
    "df = pd.DataFrame({'city_name':cities})\n",
    "\n",
    "# Thus far, this is what we have:\n",
    "df.head()"
   ]
  },
  {
   "cell_type": "code",
   "execution_count": 3,
   "metadata": {},
   "outputs": [],
   "source": [
    "# Define function to get weather for a given city.\n",
    "def get_weather_for_city(row):\n",
    "    url = 'https://api.openweathermap.org/data/2.5/weather?q={}&units=imperial&appid={}'.format(row['city_name'],key)\n",
    "    resp = requests.get(url).json()\n",
    "    if requests.get(url).status_code == 404:\n",
    "        pass\n",
    "    else:\n",
    "        return resp\n",
    "    \n",
    "# For Log:\n",
    "# print(f\"Processing Record {} of Set 1 | {}\".format(row['city_name'],row['city_name']))\n",
    "# print(url)"
   ]
  },
  {
   "cell_type": "code",
   "execution_count": 10,
   "metadata": {},
   "outputs": [
    {
     "data": {
      "text/html": [
       "<div>\n",
       "<style scoped>\n",
       "    .dataframe tbody tr th:only-of-type {\n",
       "        vertical-align: middle;\n",
       "    }\n",
       "\n",
       "    .dataframe tbody tr th {\n",
       "        vertical-align: top;\n",
       "    }\n",
       "\n",
       "    .dataframe thead th {\n",
       "        text-align: right;\n",
       "    }\n",
       "</style>\n",
       "<table border=\"1\" class=\"dataframe\">\n",
       "  <thead>\n",
       "    <tr style=\"text-align: right;\">\n",
       "      <th></th>\n",
       "      <th>city_name</th>\n",
       "      <th>weather_result</th>\n",
       "      <th>cloudiness</th>\n",
       "      <th>date</th>\n",
       "      <th>humidity</th>\n",
       "      <th>lat</th>\n",
       "      <th>long</th>\n",
       "      <th>max_temp</th>\n",
       "      <th>wind_speed</th>\n",
       "      <th>country</th>\n",
       "    </tr>\n",
       "  </thead>\n",
       "  <tbody>\n",
       "    <tr>\n",
       "      <th>0</th>\n",
       "      <td>atuona</td>\n",
       "      <td>{'coord': {'lon': -139.03, 'lat': -9.8}, 'weather': [{'id': 804, 'main': 'Clouds', 'description': 'overcast clouds', 'icon': '04n'}], 'base': 'stations', 'main': {'temp': 81.28, 'pressure': 1022.77, 'humidity': 100, 'temp_min': 81.28, 'temp_max': 81.28, 'sea_level': 1022.8, 'grnd_level': 1022.77}, 'wind': {'speed': 14.7, 'deg': 76.0025}, 'clouds': {'all': 100}, 'dt': 1547434644, 'sys': {'message': 0.0028, 'country': 'PF', 'sunrise': 1547478366, 'sunset': 1547523859}, 'id': 4020109, 'name': 'Atuona', 'cod': 200}</td>\n",
       "      <td>100</td>\n",
       "      <td>2019-01-14 02:57:24</td>\n",
       "      <td>100</td>\n",
       "      <td>-9.80</td>\n",
       "      <td>-139.03</td>\n",
       "      <td>81.28</td>\n",
       "      <td>14.70</td>\n",
       "      <td>PF</td>\n",
       "    </tr>\n",
       "    <tr>\n",
       "      <th>1</th>\n",
       "      <td>vestmannaeyjar</td>\n",
       "      <td>{'coord': {'lon': -20.27, 'lat': 63.44}, 'weather': [{'id': 801, 'main': 'Clouds', 'description': 'few clouds', 'icon': '02n'}], 'base': 'stations', 'main': {'temp': 30.79, 'pressure': 1018.96, 'humidity': 100, 'temp_min': 30.79, 'temp_max': 30.79, 'sea_level': 1025.36, 'grnd_level': 1018.96}, 'wind': {'speed': 2.21, 'deg': 303.503}, 'clouds': {'all': 12}, 'dt': 1547435406, 'sys': {'message': 0.0163, 'country': 'IS', 'sunrise': 1547462553, 'sunset': 1547482693}, 'id': 3412093, 'name': 'Vestmannaeyjar', 'cod': 200}</td>\n",
       "      <td>12</td>\n",
       "      <td>2019-01-14 03:10:06</td>\n",
       "      <td>100</td>\n",
       "      <td>63.44</td>\n",
       "      <td>-20.27</td>\n",
       "      <td>30.79</td>\n",
       "      <td>2.21</td>\n",
       "      <td>IS</td>\n",
       "    </tr>\n",
       "    <tr>\n",
       "      <th>2</th>\n",
       "      <td>punta arenas</td>\n",
       "      <td>{'coord': {'lon': -70.91, 'lat': -53.16}, 'weather': [{'id': 802, 'main': 'Clouds', 'description': 'scattered clouds', 'icon': '03n'}], 'base': 'stations', 'main': {'temp': 50, 'pressure': 1007, 'humidity': 66, 'temp_min': 50, 'temp_max': 50}, 'visibility': 10000, 'wind': {'speed': 14.99, 'deg': 260}, 'clouds': {'all': 40}, 'dt': 1547431200, 'sys': {'type': 1, 'id': 8487, 'message': 0.0036, 'country': 'CL', 'sunrise': 1547455204, 'sunset': 1547514266}, 'id': 3874787, 'name': 'Punta Arenas', 'cod': 200}</td>\n",
       "      <td>40</td>\n",
       "      <td>2019-01-14 02:00:00</td>\n",
       "      <td>66</td>\n",
       "      <td>-53.16</td>\n",
       "      <td>-70.91</td>\n",
       "      <td>50.00</td>\n",
       "      <td>14.99</td>\n",
       "      <td>CL</td>\n",
       "    </tr>\n",
       "  </tbody>\n",
       "</table>\n",
       "</div>"
      ],
      "text/plain": [
       "        city_name  \\\n",
       "0  atuona           \n",
       "1  vestmannaeyjar   \n",
       "2  punta arenas     \n",
       "\n",
       "                                                                                                                                                                                                                                                                                                                                                                                                                                                                                                                            weather_result  \\\n",
       "0  {'coord': {'lon': -139.03, 'lat': -9.8}, 'weather': [{'id': 804, 'main': 'Clouds', 'description': 'overcast clouds', 'icon': '04n'}], 'base': 'stations', 'main': {'temp': 81.28, 'pressure': 1022.77, 'humidity': 100, 'temp_min': 81.28, 'temp_max': 81.28, 'sea_level': 1022.8, 'grnd_level': 1022.77}, 'wind': {'speed': 14.7, 'deg': 76.0025}, 'clouds': {'all': 100}, 'dt': 1547434644, 'sys': {'message': 0.0028, 'country': 'PF', 'sunrise': 1547478366, 'sunset': 1547523859}, 'id': 4020109, 'name': 'Atuona', 'cod': 200}      \n",
       "1  {'coord': {'lon': -20.27, 'lat': 63.44}, 'weather': [{'id': 801, 'main': 'Clouds', 'description': 'few clouds', 'icon': '02n'}], 'base': 'stations', 'main': {'temp': 30.79, 'pressure': 1018.96, 'humidity': 100, 'temp_min': 30.79, 'temp_max': 30.79, 'sea_level': 1025.36, 'grnd_level': 1018.96}, 'wind': {'speed': 2.21, 'deg': 303.503}, 'clouds': {'all': 12}, 'dt': 1547435406, 'sys': {'message': 0.0163, 'country': 'IS', 'sunrise': 1547462553, 'sunset': 1547482693}, 'id': 3412093, 'name': 'Vestmannaeyjar', 'cod': 200}   \n",
       "2  {'coord': {'lon': -70.91, 'lat': -53.16}, 'weather': [{'id': 802, 'main': 'Clouds', 'description': 'scattered clouds', 'icon': '03n'}], 'base': 'stations', 'main': {'temp': 50, 'pressure': 1007, 'humidity': 66, 'temp_min': 50, 'temp_max': 50}, 'visibility': 10000, 'wind': {'speed': 14.99, 'deg': 260}, 'clouds': {'all': 40}, 'dt': 1547431200, 'sys': {'type': 1, 'id': 8487, 'message': 0.0036, 'country': 'CL', 'sunrise': 1547455204, 'sunset': 1547514266}, 'id': 3874787, 'name': 'Punta Arenas', 'cod': 200}               \n",
       "\n",
       "   cloudiness                 date  humidity    lat    long  max_temp  \\\n",
       "0  100         2019-01-14 02:57:24  100      -9.80  -139.03  81.28      \n",
       "1  12          2019-01-14 03:10:06  100       63.44 -20.27   30.79      \n",
       "2  40          2019-01-14 02:00:00  66       -53.16 -70.91   50.00      \n",
       "\n",
       "   wind_speed country  \n",
       "0  14.70       PF      \n",
       "1  2.21        IS      \n",
       "2  14.99       CL      "
      ]
     },
     "execution_count": 10,
     "metadata": {},
     "output_type": "execute_result"
    }
   ],
   "source": [
    "# Using function above, append weather API reponse as new column in dataframe.\n",
    "pd.set_option('display.max_colwidth', -1)\n",
    "df['weather_result'] = df.apply(get_weather_for_city, axis=1)\n",
    "\n",
    "# Where there were no results in the weather API, drop the rows. Example city used for testing: \"taolanaro\".\n",
    "df = df.dropna()\n",
    "\n",
    "# Parse API response (weather summary) and store values in individual columns in df.\n",
    "df[\"cloudiness\"] = df['weather_result'].map(lambda x: x.get('clouds',0).get('all',0))\n",
    "df[\"date\"] = df['weather_result'].map(lambda x: datetime.utcfromtimestamp(x.get('dt')).strftime('%Y-%m-%d %H:%M:%S'))\n",
    "df[\"humidity\"] = df['weather_result'].map(lambda x: x.get('main').get('humidity'))\n",
    "df[\"lat\"] = df['weather_result'].map(lambda x: x.get('coord').get('lat'))\n",
    "df[\"long\"] = df['weather_result'].map(lambda x: x.get('coord').get('lon'))\n",
    "df[\"max_temp\"] = df['weather_result'].map(lambda x: x.get('main').get('temp_max'))\n",
    "df[\"wind_speed\"] = df['weather_result'].map(lambda x: x.get('wind').get('speed'))\n",
    "df[\"country\"] = df['weather_result'].map(lambda x: x.get('sys').get('country'))\n",
    "\n",
    "# For cities that don't exist (and if we didn't drop them), why doesn't this work?\n",
    "# df[\"cloudiness\"] = df['weather_result'].map(lambda x: x.get('clouds').get('all') or [])\n",
    "# df[\"cloudiness\"] = df['weather_result'].map(lambda x: x.get('clouds',0).get('all',0))\n",
    "# df[\"cloudiness\"] = df['weather_result'].map(lambda x: x.get('clouds').get('all') if isinstance(df[\"cloudiness\"][0], dict) else None\n",
    "# df[\"cloudiness\"] = df['weather_result'].map(lambda x: x.get('clouds').get('all') if type(df[\"cloudiness\"][0]) == dict else x.get('clouds'))\n",
    "\n",
    "# Store results to CSV.\n",
    "df.to_csv(output_data_file, sep=',', index=True, header=True)\n",
    "\n",
    "# Show results.\n",
    "df.head()"
   ]
  },
  {
   "cell_type": "markdown",
   "metadata": {},
   "source": [
    "### Plotting the Data\n",
    "* Use proper labeling of the plots using plot titles (including date of analysis) and axes labels.\n",
    "* Save the plotted figures as .pngs."
   ]
  },
  {
   "cell_type": "markdown",
   "metadata": {},
   "source": [
    "#### Latitude vs. Temperature Plot"
   ]
  },
  {
   "cell_type": "code",
   "execution_count": 32,
   "metadata": {},
   "outputs": [
    {
     "data": {
      "image/png": "[encoded data removed]",
      "text/plain": [
       "<Figure size 432x288 with 1 Axes>"
      ]
     },
     "metadata": {},
     "output_type": "display_data"
    }
   ],
   "source": [
    "plt.scatter(x = df['lat'], y = df['max_temp'], s = 60, alpha=0.9 , edgecolor='black', linewidths=.5)\n",
    "plt.xlabel(\"Latitude\")\n",
    "plt.ylabel(\"Max Temperature (F)\")\n",
    "plt.title(\"City Latitude vs. Max Temperature\")\n",
    "plt.grid()\n",
    "plt.savefig('lat_vs_temp.png')\n",
    "plt.show()"
   ]
  },
  {
   "cell_type": "markdown",
   "metadata": {},
   "source": [
    "#### Latitude vs. Humidity Plot"
   ]
  },
  {
   "cell_type": "code",
   "execution_count": 28,
   "metadata": {},
   "outputs": [
    {
     "data": {
      "image/png": "[encoded data removed]",
      "text/plain": [
       "<Figure size 432x288 with 1 Axes>"
      ]
     },
     "metadata": {},
     "output_type": "display_data"
    }
   ],
   "source": [
    "plt.scatter(x = df['lat'], y = df['humidity'], s = 60, alpha=0.9 , edgecolor='black', linewidths=.5)\n",
    "plt.xlabel(\"Latitude\")\n",
    "plt.ylabel(\"Humidity (%)\")\n",
    "plt.title(\"City Latitude vs. Humidity\")\n",
    "plt.grid()\n",
    "plt.savefig('lat_vs_humidity.png')\n",
    "plt.show()"
   ]
  },
  {
   "cell_type": "markdown",
   "metadata": {},
   "source": [
    "#### Latitude vs. Cloudiness Plot"
   ]
  },
  {
   "cell_type": "code",
   "execution_count": 29,
   "metadata": {},
   "outputs": [
    {
     "data": {
      "image/png": "[encoded data removed]",
      "text/plain": [
       "<Figure size 432x288 with 1 Axes>"
      ]
     },
     "metadata": {},
     "output_type": "display_data"
    }
   ],
   "source": [
    "plt.scatter(x = df['lat'], y = df['cloudiness'], s = 60, alpha=0.9 , edgecolor='black', linewidths=.5)\n",
    "plt.xlabel(\"Latitude\")\n",
    "plt.ylabel(\"Cloudiness (%)\")\n",
    "plt.title(\"City Latitude vs. Cloudiness\")\n",
    "plt.grid()\n",
    "plt.savefig('lat_vs_cloudiness.png')\n",
    "plt.show()"
   ]
  },
  {
   "cell_type": "markdown",
   "metadata": {},
   "source": [
    "#### Latitude vs. Wind Speed Plot"
   ]
  },
  {
   "cell_type": "code",
   "execution_count": 31,
   "metadata": {},
   "outputs": [
    {
     "data": {
      "image/png": "[encoded data removed]",
      "text/plain": [
       "<Figure size 432x288 with 1 Axes>"
      ]
     },
     "metadata": {},
     "output_type": "display_data"
    }
   ],
   "source": [
    "plt.scatter(x = df['lat'], y = df['wind_speed'], s = 60, alpha=0.9 , edgecolor='black', linewidths=.5)\n",
    "plt.xlabel(\"Latitude\")\n",
    "plt.ylabel(\"Wind Speed (mph)\")\n",
    "plt.title(\"City Latitude vs. Wind Speed\")\n",
    "plt.grid()\n",
    "plt.savefig('lat_vs_windspeed.png')\n",
    "plt.show()"
   ]
  }
 ],
 "metadata": {
  "anaconda-cloud": {},
  "kernelspec": {
   "display_name": "Python 3",
   "language": "python",
   "name": "python3"
  },
  "language_info": {
   "codemirror_mode": {
    "name": "ipython",
    "version": 3
   },
   "file_extension": ".py",
   "mimetype": "text/x-python",
   "name": "python",
   "nbconvert_exporter": "python",
   "pygments_lexer": "ipython3",
   "version": "3.6.5"
  }
 },
 "nbformat": 4,
 "nbformat_minor": 2
}
