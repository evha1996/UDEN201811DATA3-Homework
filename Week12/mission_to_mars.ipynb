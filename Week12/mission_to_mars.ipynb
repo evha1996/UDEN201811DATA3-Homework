{
 "cells": [
  {
   "cell_type": "code",
   "execution_count": 47,
   "metadata": {},
   "outputs": [],
   "source": [
    "# Import packages.\n",
    "from splinter import Browser\n",
    "from bs4 import BeautifulSoup as bs\n",
    "import pandas as pd\n",
    "import requests\n",
    "import json\n",
    "#import re\n",
    "import pymongo"
   ]
  },
  {
   "cell_type": "code",
   "execution_count": 48,
   "metadata": {},
   "outputs": [],
   "source": [
    "# The default port used by MongoDB is 27017\n",
    "# https://docs.mongodb.com/manual/reference/default-mongodb-port/\n",
    "conn = 'mongodb://localhost:27017'\n",
    "client = pymongo.MongoClient(conn)\n",
    "\n",
    "# Declare the database\n",
    "db = client.mars\n",
    "\n",
    "# Declare the collection\n",
    "collection = db.mars"
   ]
  },
  {
   "cell_type": "code",
   "execution_count": 49,
   "metadata": {},
   "outputs": [],
   "source": [
    "# Get NASA Mars News and store results as a list of dictionaries.\n",
    "\n",
    "def get_articles():\n",
    "    news = {}\n",
    "    \n",
    "    news_url = \"https://mars.nasa.gov/api/v1/news_items/?page=0&per_page=40&order=publish_date+desc%2Ccreated_at+desc&search=&category=19%2C165%2C184%2C204&blank_scope=Latest\"\n",
    "    header = {'User-Agent': 'Mozilla/5.0 (Macintosh; Intel Mac OS X 10_10_1) AppleWebKit/537.36 (KHTML, like Gecko) Chrome/39.0.2171.95 Safari/537.36'}\n",
    "    resp = requests.get(news_url, headers=header)\n",
    "    resp = resp.json()\n",
    "\n",
    "    # Get articls\n",
    "    articles = resp.get('items')\n",
    "    \n",
    "    # Iterate over all elements in articles to extract title and body.\n",
    "    for i in range(len(articles)):\n",
    "        # Store title.\n",
    "        title = articles[i]['title'].encode('utf-8')\n",
    "\n",
    "        # Store body.\n",
    "        body = articles[i]['body'].encode('utf-8')\n",
    "        body = re.sub(r'<.*?>', '', body)\n",
    "        \n",
    "        news['article_'+ str(i)] = {\n",
    "            \"title\": title,\n",
    "            \"body\": body\n",
    "        }\n",
    "        \n",
    "    collection.insert_one(news)\n",
    "\n",
    "get_articles()\n",
    "        "
   ]
  },
  {
   "cell_type": "code",
   "execution_count": 50,
   "metadata": {},
   "outputs": [],
   "source": [
    "# Get JPL Mars Space Images - Featured Image.\n",
    "\n",
    "def get_featured_image():\n",
    "    featured_image = {}\n",
    "    image_url = \"https://www.jpl.nasa.gov/spaceimages/?search=&category=Mars\"    \n",
    "    executable_path = {'executable_path': '/Users/jenniferwilson/Desktop/Repositories/UDEN201811DATA3-Homework/chromedriver'}\n",
    "    browser = Browser('chrome', **executable_path)\n",
    "    browser.visit(image_url)\n",
    "    html = browser.html\n",
    "    soup = bs(html, 'html.parser')\n",
    "    featured_image_url = \"https://www.jpl.nasa.gov\" + soup.article[\"style\"].split(\"'\")[1].encode('utf-8')\n",
    "    featured_image['featured_image_url'] = featured_image_url\n",
    "    collection.insert_one(featured_image)\n",
    "    \n",
    "get_featured_image()\n"
   ]
  },
  {
   "cell_type": "code",
   "execution_count": 51,
   "metadata": {},
   "outputs": [],
   "source": [
    "# Get Mars weather.\n",
    "\n",
    "def get_mars_weather():\n",
    "    weather = {}\n",
    "    twitter_url = \"https://twitter.com/marswxreport?lang=en\"\n",
    "    header = {'User-Agent': 'Mozilla/5.0 (Macintosh; Intel Mac OS X 10_10_1) AppleWebKit/537.36 (KHTML, like Gecko) Chrome/39.0.2171.95 Safari/537.36'}\n",
    "    resp = requests.get(twitter_url, headers=header)\n",
    "    soup = bs(resp.text,'html.parser')\n",
    "\n",
    "    # Extract first tweet.\n",
    "    tweet_text = soup.find(\"p\",{\"class\":\"TweetTextSize\"}).get_text()\n",
    "\n",
    "    # Remove ASCII characters.\n",
    "    tweet_text = str(tweet_text.encode(\"ascii\",\"ignore\"))\n",
    "    weather['weather'] = tweet_text\n",
    "    collection.insert_one(weather)\n",
    "    \n",
    "get_mars_weather()\n"
   ]
  },
  {
   "cell_type": "code",
   "execution_count": 52,
   "metadata": {},
   "outputs": [],
   "source": [
    "## Get hemisphere images.\n",
    "\n",
    "# This list needs to exist outs\n",
    "image_page_urls = []\n",
    "\n",
    "def get_hemisphere_urls():\n",
    "    url = \"https://astrogeology.usgs.gov/search/results?q=hemisphere+enhanced&k1=target&v1=Mars\"\n",
    "    header = {'User-Agent': 'Mozilla/5.0 (Macintosh; Intel Mac OS X 10_10_1) AppleWebKit/537.36 (KHTML, like Gecko) Chrome/39.0.2171.95 Safari/537.36'}\n",
    "    resp = requests.get(url, headers=header)\n",
    "    soup = bs(resp.text,'html.parser')\n",
    "    hrefs = soup.find_all(\"a\", {\"class\": \"itemLink product-item\"})\n",
    "    \n",
    "    for i in range(len(hrefs)):\n",
    "        href_trimmed = hrefs[i]['href'].encode('utf-8')\n",
    "        image_page_urls.append(\"https://astrogeology.usgs.gov/\" + href_trimmed)\n",
    "\n",
    "get_hemisphere_urls()\n",
    "\n",
    "def get_hemisphere_image():\n",
    "    \n",
    "    hemisphere_image_urls = {}\n",
    "    \n",
    "    for i in range(len(image_page_urls)):\n",
    "        url = image_page_urls[i]        \n",
    "        header = {'User-Agent': 'Mozilla/5.0 (Macintosh; Intel Mac OS X 10_10_1) AppleWebKit/537.36 (KHTML, like Gecko) Chrome/39.0.2171.95 Safari/537.36'}\n",
    "        resp = requests.get(url, headers=header)\n",
    "        soup = bs(resp.text,'html.parser')\n",
    "        \n",
    "        image_url = soup.find_all(\"a\", attrs={\"target\": \"_blank\"})\n",
    "        image_url = image_url[1][\"href\"].encode('utf-8')\n",
    "        title = soup.find('h2', {\"class\":\"title\"}).get_text().encode('utf-8')\n",
    "        \n",
    "        hemisphere_image_urls['image_'+ str(i)] = {\n",
    "            \"img_url\": image_url,\n",
    "            \"title\": title\n",
    "        }\n",
    "        \n",
    "    collection.insert_one(hemisphere_image_urls)\n",
    "        \n",
    "get_hemisphere_image()\n"
   ]
  },
  {
   "cell_type": "code",
   "execution_count": 53,
   "metadata": {},
   "outputs": [
    {
     "ename": "TypeError",
     "evalue": "list indices must be integers, not str",
     "output_type": "error",
     "traceback": [
      "\u001b[0;31m---------------------------------------------------------------------------\u001b[0m",
      "\u001b[0;31mTypeError\u001b[0m                                 Traceback (most recent call last)",
      "\u001b[0;32m<ipython-input-53-d0113719015f>\u001b[0m in \u001b[0;36m<module>\u001b[0;34m()\u001b[0m\n\u001b[1;32m     13\u001b[0m     \u001b[0mcollection\u001b[0m\u001b[0;34m.\u001b[0m\u001b[0minsert_one\u001b[0m\u001b[0;34m(\u001b[0m\u001b[0mfacts_df\u001b[0m\u001b[0;34m)\u001b[0m\u001b[0;34m\u001b[0m\u001b[0m\n\u001b[1;32m     14\u001b[0m \u001b[0;34m\u001b[0m\u001b[0m\n\u001b[0;32m---> 15\u001b[0;31m \u001b[0mget_facts\u001b[0m\u001b[0;34m(\u001b[0m\u001b[0;34m)\u001b[0m\u001b[0;34m\u001b[0m\u001b[0m\n\u001b[0m\u001b[1;32m     16\u001b[0m \u001b[0;34m\u001b[0m\u001b[0m\n\u001b[1;32m     17\u001b[0m \u001b[0;31m# TUTOR - Doesn't work.\u001b[0m\u001b[0;34m\u001b[0m\u001b[0;34m\u001b[0m\u001b[0m\n",
      "\u001b[0;32m<ipython-input-53-d0113719015f>\u001b[0m in \u001b[0;36mget_facts\u001b[0;34m()\u001b[0m\n\u001b[1;32m     10\u001b[0m     \u001b[0mfacts_df\u001b[0m\u001b[0;34m[\u001b[0m\u001b[0;34m'Values'\u001b[0m\u001b[0;34m]\u001b[0m \u001b[0;34m=\u001b[0m \u001b[0mmap\u001b[0m\u001b[0;34m(\u001b[0m\u001b[0;32mlambda\u001b[0m \u001b[0mx\u001b[0m\u001b[0;34m:\u001b[0m \u001b[0mx\u001b[0m\u001b[0;34m.\u001b[0m\u001b[0mencode\u001b[0m\u001b[0;34m(\u001b[0m\u001b[0;34m'ascii'\u001b[0m\u001b[0;34m,\u001b[0m \u001b[0;34m'ignore'\u001b[0m\u001b[0;34m)\u001b[0m\u001b[0;34m.\u001b[0m\u001b[0mdecode\u001b[0m\u001b[0;34m(\u001b[0m\u001b[0;34m'ascii'\u001b[0m\u001b[0;34m)\u001b[0m\u001b[0;34m,\u001b[0m \u001b[0mfacts_df\u001b[0m\u001b[0;34m[\u001b[0m\u001b[0;34m\"Values\"\u001b[0m\u001b[0;34m]\u001b[0m\u001b[0;34m)\u001b[0m\u001b[0;34m\u001b[0m\u001b[0m\n\u001b[1;32m     11\u001b[0m     \u001b[0mfacts_html\u001b[0m \u001b[0;34m=\u001b[0m \u001b[0mfacts_df\u001b[0m\u001b[0;34m.\u001b[0m\u001b[0mto_html\u001b[0m\u001b[0;34m(\u001b[0m\u001b[0;34m)\u001b[0m\u001b[0;34m\u001b[0m\u001b[0m\n\u001b[0;32m---> 12\u001b[0;31m     \u001b[0mfacts\u001b[0m\u001b[0;34m[\u001b[0m\u001b[0;34m'facts'\u001b[0m\u001b[0;34m]\u001b[0m \u001b[0;34m=\u001b[0m \u001b[0mstr\u001b[0m\u001b[0;34m(\u001b[0m\u001b[0mfacts_html\u001b[0m\u001b[0;34m)\u001b[0m\u001b[0;34m\u001b[0m\u001b[0m\n\u001b[0m\u001b[1;32m     13\u001b[0m     \u001b[0mcollection\u001b[0m\u001b[0;34m.\u001b[0m\u001b[0minsert_one\u001b[0m\u001b[0;34m(\u001b[0m\u001b[0mfacts_df\u001b[0m\u001b[0;34m)\u001b[0m\u001b[0;34m\u001b[0m\u001b[0m\n\u001b[1;32m     14\u001b[0m \u001b[0;34m\u001b[0m\u001b[0m\n",
      "\u001b[0;31mTypeError\u001b[0m: list indices must be integers, not str"
     ]
    }
   ],
   "source": [
    "# DID NOT RUN.\n",
    "# Get Mars facts.\n",
    "    \n",
    "def get_facts():\n",
    "    facts_df = {}\n",
    "    facts_url = \"http://space-facts.com/mars/\"\n",
    "    facts = pd.read_html(facts_url)\n",
    "    facts_df = facts[0]\n",
    "    facts_df.rename(columns={0: \"Stat\", 1:\"Values\"}, inplace = True) \n",
    "    facts_df['Values'] = map(lambda x: x.encode('ascii', 'ignore').decode('ascii'), facts_df[\"Values\"])\n",
    "    facts_html = facts_df.to_html()\n",
    "    facts['facts'] = str(facts_html)\n",
    "    collection.insert_one(facts_df)\n",
    "    \n",
    "get_facts()\n",
    "\n",
    "# TUTOR - Doesn't work."
   ]
  },
  {
   "cell_type": "code",
   "execution_count": null,
   "metadata": {},
   "outputs": [],
   "source": []
  }
 ],
 "metadata": {
  "kernelspec": {
   "display_name": "Python 2",
   "language": "python",
   "name": "python2"
  },
  "language_info": {
   "codemirror_mode": {
    "name": "ipython",
    "version": 2
   },
   "file_extension": ".py",
   "mimetype": "text/x-python",
   "name": "python",
   "nbconvert_exporter": "python",
   "pygments_lexer": "ipython2",
   "version": "2.7.15"
  }
 },
 "nbformat": 4,
 "nbformat_minor": 2
}
