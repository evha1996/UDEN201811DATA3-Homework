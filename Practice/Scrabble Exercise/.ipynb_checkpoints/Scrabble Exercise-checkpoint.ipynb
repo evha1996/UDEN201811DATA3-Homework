{
 "cells": [
  {
   "cell_type": "markdown",
   "metadata": {},
   "source": [
    "## Scrabble exercise.\n",
    "\n",
    "https://wiki.openhatch.org/wiki/Scrabble_challenge\n",
    "\n",
    "Write a Python script that takes a Scrabble rack as a command-line argument and prints all valid Scrabble words that can be constructed from that rack, along with their Scrabble scores, sorted by score. An example invocation and output:\n",
    "\n",
    "```\n",
    "$ python scrabble.py ZAEFIEE\n",
    "17 feeze\n",
    "17 feaze\n",
    "16 faze\n",
    "15 fiz\n",
    "15 fez\n",
    "12 zee\n",
    "12 zea\n",
    "11 za\n",
    "6 fie\n",
    "6 fee\n",
    "6 fae\n",
    "5 if\n",
    "5 fe\n",
    "5 fa\n",
    "5 ef\n",
    "2 ee\n",
    "2 ea\n",
    "2 ai\n",
    "2 ae```"
   ]
  },
  {
   "cell_type": "code",
   "execution_count": 1,
   "metadata": {},
   "outputs": [
    {
     "name": "stdout",
     "output_type": "stream",
     "text": [
      "['AAH', 'AAHED', 'AAHING', 'AAHS']\n"
     ]
    }
   ],
   "source": [
    "# Setup\n",
    "import pandas as pd\n",
    "import csv\n",
    "\n",
    "# Create dictionary of tile scores.\n",
    "scores = {\"a\": 1, \"c\": 3, \"b\": 3, \"e\": 1, \"d\": 2, \"g\": 2,\n",
    "         \"f\": 4, \"i\": 1, \"h\": 4, \"k\": 5, \"j\": 8, \"m\": 3,\n",
    "         \"l\": 1, \"o\": 1, \"n\": 1, \"q\": 10, \"p\": 3, \"s\": 1,\n",
    "         \"r\": 1, \"u\": 1, \"t\": 1, \"w\": 4, \"v\": 4, \"y\": 4,\n",
    "         \"x\": 8, \"z\": 10}\n",
    "\n",
    "words = []\n",
    "with open(\"sowpods.txt\", 'r') as file:\n",
    "#     reader = csv.reader(file)       # TUTOR: Why does removing this make it work?     \n",
    "    words = list(map(lambda x:x.strip(),file))\n",
    "            \n",
    "print(words[1:5])"
   ]
  },
  {
   "cell_type": "code",
   "execution_count": null,
   "metadata": {},
   "outputs": [],
   "source": [
    "sample_tiles = [\"r\",\"s\",\"t\",\"l\",\"n\",\"e\",\"i\"]\n",
    "valid_words = []\n",
    "def scrabble_words(tiles):\n",
    "    if len(tiles) == 0:\n",
    "        \"Pleases supply the Scrabble letters in your rack. At least one letter is required.\"\n",
    "    else: \n",
    "        # Set all tiles to uppercase; word list is uppercase.\n",
    "        tiles = [x.upper() for x in tiles]\n",
    "        \n",
    "        # Loop through the elements in the list of Scrabble words.\n",
    "        # For each element, break it down into individual characters.\n",
    "        # For each character, check and see if that character is in my tiles_remaining list.\n",
    "        # If it is, update tiles_remaining to remove that letter and also move to next character in the element.\n",
    "        # If it is not, go to next element in words list.\n",
    "        # Once you have no elements remaining in the word you're iterating over, append the word to the valid words list.\n",
    "        # Otherwise, simply move to the next word (element) in the list.\n",
    "        \n",
    "        for x in words:\n",
    "            # List tiles remaining.\n",
    "            tiles_remaining = tiles\n",
    "            # Break current word into individual characters.\n",
    "            current_word_characters = [list(x) for x in words]\n",
    "            for i in current_word_characters:\n",
    "                if i in tiles:\n",
    "                    # If the current tile under review appears in the current word, remove that tile\n",
    "                    # From the list of available tiles: tiles_remaining.\n",
    "                    tiles_remaining = tiles_remaining.remove(i)\n",
    "                    \n",
    "                    # HELP! This is where I am stuck. I'm stuck because it seems like I need\n",
    "                    # Yet another loop which can't be right. It seems like I need a third loop\n",
    "                    # To continue looping through tiles remaining.\n",
    "                else:\n",
    "                    exit()\n",
    "                    valid_words = valid_words.append(x)\n",
    "            \n",
    "       \n",
    "        \n",
    "# Some messy copy/paste of sample code I found online:       \n",
    "# for item in list:\n",
    "# \tfor item1 in tinylist:\n",
    "# \t\tif item == item1:\n",
    "# \t\t\tprint item\n",
    "# \t\telse:\n",
    "# \t\t\tprint \"No match\"\n",
    " \n",
    "# print \"****************\\n\""
   ]
  },
  {
   "cell_type": "code",
   "execution_count": 91,
   "metadata": {},
   "outputs": [
    {
     "name": "stdout",
     "output_type": "stream",
     "text": [
      "[['t'], ['a'], ['c'], ['o']]\n"
     ]
    }
   ],
   "source": []
  },
  {
   "cell_type": "code",
   "execution_count": null,
   "metadata": {},
   "outputs": [],
   "source": []
  },
  {
   "cell_type": "code",
   "execution_count": null,
   "metadata": {},
   "outputs": [],
   "source": []
  },
  {
   "cell_type": "code",
   "execution_count": null,
   "metadata": {},
   "outputs": [],
   "source": []
  },
  {
   "cell_type": "code",
   "execution_count": null,
   "metadata": {},
   "outputs": [],
   "source": []
  }
 ],
 "metadata": {
  "kernelspec": {
   "display_name": "Python 3",
   "language": "python",
   "name": "python3"
  },
  "language_info": {
   "codemirror_mode": {
    "name": "ipython",
    "version": 3
   },
   "file_extension": ".py",
   "mimetype": "text/x-python",
   "name": "python",
   "nbconvert_exporter": "python",
   "pygments_lexer": "ipython3",
   "version": "3.6.5"
  }
 },
 "nbformat": 4,
 "nbformat_minor": 2
}
