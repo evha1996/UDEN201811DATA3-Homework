{
 "cells": [
  {
   "cell_type": "code",
   "execution_count": 15,
   "metadata": {},
   "outputs": [],
   "source": [
    "import pandas as pd \n",
    "import requests\n",
    "data = requests.get(\"https://api.iextrading.com/1.0/stock/aapl/chart/1y\")\n",
    "data = data.json() #request will parse response into JSON or error if cannot parse.\n",
    "df = pd.DataFrame.from_records(data) # record is analagous to dictionary\n",
    "\n",
    "def get_stock_price_df(ticker):\n",
    "    # f\"https://api.iextrading.com/1.0/stock/{}/chart/1y\".format(ticker)\n",
    "    data = requests.get(f\"https://api.iextrading.com/1.0/stock/{ticker}/chart/1y\")\n",
    "    response = data.json() #request will parse response into JSON or error if cannot parse.\n",
    "    df = pd.DataFrame.from_records(response) # record is analagous to dictionary\n",
    "    df['ticker'] = ticker\n",
    "    return df\n",
    "\n",
    "stocks = ['nvda','c','cat','vnq','spy']\n",
    "frames = [get_stock_price_df(ticker) for ticker in stocks]\n",
    "merged = pd.concat(frames, axis=0)\n",
    "merged.ticker.value_counts()"
   ]
  }
 ],
 "metadata": {
  "kernelspec": {
   "display_name": "Python 3",
   "language": "python",
   "name": "python3"
  },
  "language_info": {
   "codemirror_mode": {
    "name": "ipython",
    "version": 3
   },
   "file_extension": ".py",
   "mimetype": "text/x-python",
   "name": "python",
   "nbconvert_exporter": "python",
   "pygments_lexer": "ipython3",
   "version": "3.6.5"
  }
 },
 "nbformat": 4,
 "nbformat_minor": 2
}
